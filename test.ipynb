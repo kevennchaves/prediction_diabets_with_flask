{
 "cells": [
  {
   "cell_type": "code",
   "execution_count": 2,
   "id": "5cc8f846",
   "metadata": {},
   "outputs": [
    {
     "name": "stdout",
     "output_type": "stream",
     "text": [
      "Não chances\n",
      "[[0.9619694  0.03803065]]\n"
     ]
    }
   ],
   "source": [
    "# pontual test with joblib\n",
    "\n",
    "import joblib as jb\n",
    "import numpy as np\n",
    "modelo = open('C:/Users/engke/OneDrive/Data Science/Diabets analysis deploy/model.h5','rb')\n",
    "\n",
    "pred = jb.load(modelo)\n",
    "\n",
    "modelo.close()\n",
    "\n",
    "g = 1\n",
    "imc = 25.39\n",
    "gli = 110\n",
    "age = 28\n",
    "\n",
    "test = np.array([[g, gli, imc, age]])\n",
    "\n",
    "print('Chances') if pred.predict(test)[0] == 1 else print('Não chances')\n",
    "print(pred.predict_proba(test))"
   ]
  },
  {
   "cell_type": "code",
   "execution_count": null,
   "id": "e2105915",
   "metadata": {},
   "outputs": [],
   "source": []
  }
 ],
 "metadata": {
  "kernelspec": {
   "display_name": "Python 3 (ipykernel)",
   "language": "python",
   "name": "python3"
  },
  "language_info": {
   "codemirror_mode": {
    "name": "ipython",
    "version": 3
   },
   "file_extension": ".py",
   "mimetype": "text/x-python",
   "name": "python",
   "nbconvert_exporter": "python",
   "pygments_lexer": "ipython3",
   "version": "3.9.7"
  }
 },
 "nbformat": 4,
 "nbformat_minor": 5
}
